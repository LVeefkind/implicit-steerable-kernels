{
 "cells": [
  {
   "cell_type": "code",
   "execution_count": 10,
   "metadata": {},
   "outputs": [],
   "source": [
    "import torch\n",
    "import torch_geometric\n",
    "import numpy as np\n",
    "import matplotlib.pyplot as plt\n",
    "from escnn import nn, group, gspaces\n",
    "\n",
    "import sys\n",
    "\n",
    "sys.path.append(\"..\")\n",
    "\n",
    "from models.core.point_convolution import ImplicitPointConv\n",
    "from utils.nonlinearities import get_elu"
   ]
  },
  {
   "cell_type": "markdown",
   "metadata": {},
   "source": [
    "In this example, we will create a simple rotation-equivariant classifier that employs point convolution layers. As always, we start by defining the group and the space it acts on."
   ]
  },
  {
   "cell_type": "code",
   "execution_count": 11,
   "metadata": {},
   "outputs": [],
   "source": [
    "g = \"o3\""
   ]
  },
  {
   "cell_type": "code",
   "execution_count": 12,
   "metadata": {},
   "outputs": [],
   "source": [
    "if g == \"o3\":\n",
    "    gspace = gspaces.flipRot3dOnR3()\n",
    "elif g == \"so3\":\n",
    "    gspace = gspaces.rot3dOnR3()"
   ]
  },
  {
   "cell_type": "markdown",
   "metadata": {},
   "source": [
    "As in the previous examples, the point cloud has the following data structure: scalar, vector and pseudoscalar. Let's assume that there are 10 classes in the dataset. It means that we need to predict a probability of each class for each data point. Probability is a scalar, hence it is associated with trivial representation. For edge attributes, we will use scalar and vector attributes (e.g. distance and surface normals)."
   ]
  },
  {
   "cell_type": "code",
   "execution_count": 13,
   "metadata": {},
   "outputs": [],
   "source": [
    "scalar_repr = gspace.trivial_repr\n",
    "vector_repr = gspace.fibergroup.standard_representation()\n",
    "channel_repr = group.directsum([scalar_repr, vector_repr])\n",
    "edge_channel_repr = group.directsum([scalar_repr, vector_repr])"
   ]
  },
  {
   "cell_type": "code",
   "execution_count": 14,
   "metadata": {},
   "outputs": [],
   "source": [
    "c_in = 3\n",
    "c_out = 10\n",
    "c_attr = 5\n",
    "\n",
    "in_repr = c_in * [channel_repr]\n",
    "out_repr = c_out * [gspace.trivial_repr]\n",
    "attr_repr = c_attr * [edge_channel_repr]"
   ]
  },
  {
   "cell_type": "code",
   "execution_count": 15,
   "metadata": {},
   "outputs": [],
   "source": [
    "in_type = gspace.type(*in_repr)\n",
    "out_type = gspace.type(*out_repr)\n",
    "attr_type = gspace.type(*attr_repr)"
   ]
  },
  {
   "cell_type": "markdown",
   "metadata": {},
   "source": [
    "Since implicit kernels are only able to work with uniform representations, in general case, we will need to linearly project our data. Let us implement such a projection operator."
   ]
  },
  {
   "cell_type": "code",
   "execution_count": 16,
   "metadata": {},
   "outputs": [],
   "source": [
    "class Projector(nn.EquivariantModule):\n",
    "    def __init__(self, in_type: nn.FieldType, out_type: nn.FieldType):\n",
    "        \"\"\"\n",
    "        A simple linear layer.\n",
    "\n",
    "        Warning: sincle nn.Linear works on 0D base space (gspaces.no_base_space(G)),\n",
    "                 we will need to temporarily move our data there, to perform the linear operation.\n",
    "\n",
    "        Args:\n",
    "            in_type (nn.FieldType): input field type\n",
    "            out_type (nn.FieldType): output field type\n",
    "        \"\"\"\n",
    "        super().__init__()\n",
    "        self.in_type = in_type\n",
    "        self.out_type = out_type\n",
    "\n",
    "        gspace = gspaces.no_base_space(in_type.gspace.fibergroup)\n",
    "        self.hid_type1 = gspace.type(*in_type.representations)\n",
    "        self.hid_type2 = gspace.type(*out_type.representations)\n",
    "\n",
    "        self.linear = nn.Linear(self.hid_type1, self.hid_type2)\n",
    "\n",
    "    def forward(self, x):\n",
    "        \"\"\"\n",
    "        Forward pass of the linear layer:\n",
    "            1. Move the input to 0D base space.\n",
    "            2. Apply the linear layer.\n",
    "            3. Move the output back to the original base space.\n",
    "\n",
    "        Args:\n",
    "            x (nn.GeometricTensor): input feature map\n",
    "\n",
    "        Returns:\n",
    "            nn.GeometricTensor: output feature map\n",
    "        \"\"\"\n",
    "        x, coords = x.tensor, x.coords\n",
    "        x = self.hid_type1(x)\n",
    "        x = self.linear(x)\n",
    "        x = nn.GeometricTensor(x.tensor, self.out_type, coords)\n",
    "        return x\n",
    "\n",
    "    def evaluate_output_shape(self):\n",
    "        pass"
   ]
  },
  {
   "cell_type": "markdown",
   "metadata": {},
   "source": [
    "Our model will consist of a projection layer, 3 point convolutions and an output layer, with intermediate normalizations and non-linearities."
   ]
  },
  {
   "cell_type": "code",
   "execution_count": 17,
   "metadata": {},
   "outputs": [],
   "source": [
    "class Model(nn.EquivariantModule):\n",
    "    def __init__(self, in_type, out_type, hidden_channels, L):\n",
    "        super().__init__()\n",
    "\n",
    "        self.activation = get_elu(gspace=gspace, L=L, channels=hidden_channels)\n",
    "        hidden_type = self.activation.out_type\n",
    "\n",
    "        self.proj_in = Projector(in_type, hidden_type)\n",
    "\n",
    "        self.bnorm1 = nn.IIDBatchNorm1d(hidden_type)\n",
    "\n",
    "        self.layer1 = ImplicitPointConv(\n",
    "            in_type=hidden_type,\n",
    "            out_type=hidden_type,\n",
    "            edge_attr_type=attr_type,\n",
    "            n_layers=1,\n",
    "            n_channels=8,\n",
    "        )\n",
    "\n",
    "        self.bnorm2 = nn.IIDBatchNorm1d(hidden_type)\n",
    "        self.layer2 = ImplicitPointConv(\n",
    "            in_type=hidden_type,\n",
    "            out_type=hidden_type,\n",
    "            edge_attr_type=attr_type,\n",
    "            n_layers=3,\n",
    "            n_channels=8,\n",
    "        )\n",
    "\n",
    "        self.bnorm3 = nn.IIDBatchNorm1d(hidden_type)\n",
    "        self.layer3 = ImplicitPointConv(\n",
    "            in_type=hidden_type,\n",
    "            out_type=hidden_type,\n",
    "            edge_attr_type=attr_type,\n",
    "            n_layers=3,\n",
    "            n_channels=8,\n",
    "        )\n",
    "\n",
    "        self.bnorm_out = nn.IIDBatchNorm1d(hidden_type)\n",
    "        self.proj_out = Projector(hidden_type, out_type)\n",
    "\n",
    "    def forward(self, x, edge_index, edge_delta, edge_attr, with_activation=True):\n",
    "        x = self.proj_in(x)\n",
    "        x = self.activation(x)\n",
    "\n",
    "        x = self.bnorm1(x)\n",
    "        x = self.layer1(x, edge_index, edge_delta, edge_attr)\n",
    "        x = self.activation(x)\n",
    "\n",
    "        x = self.bnorm2(x)\n",
    "        x = self.layer2(x, edge_index, edge_delta, edge_attr)\n",
    "        x = self.activation(x)\n",
    "\n",
    "        x = self.bnorm3(x)\n",
    "        x = self.layer3(x, edge_index, edge_delta, edge_attr)\n",
    "        x = self.activation(x)\n",
    "\n",
    "        x = self.bnorm_out(x)\n",
    "        x = self.proj_out(x)\n",
    "        return x\n",
    "\n",
    "    def evaluate_output_shape(self):\n",
    "        pass"
   ]
  },
  {
   "cell_type": "markdown",
   "metadata": {},
   "source": [
    "Initialization might take a while due to MLPs and activations initialization in each convolution."
   ]
  },
  {
   "cell_type": "code",
   "execution_count": 18,
   "metadata": {},
   "outputs": [],
   "source": [
    "model = Model(\n",
    "    in_type=in_type,\n",
    "    out_type=out_type,\n",
    "    hidden_channels=16,\n",
    "    L=1,\n",
    ")"
   ]
  },
  {
   "cell_type": "markdown",
   "metadata": {},
   "source": [
    "Let us now create a random input and run the model on it."
   ]
  },
  {
   "cell_type": "code",
   "execution_count": 19,
   "metadata": {},
   "outputs": [],
   "source": [
    "n_points = 100\n",
    "pos = torch.randn(n_points, gspace.dimensionality)\n",
    "\n",
    "x = nn.GeometricTensor(torch.randn(n_points, in_type.size), in_type, pos)\n",
    "\n",
    "edge_index = torch_geometric.nn.pool.knn_graph(pos, k=32, batch=None, loop=True)\n",
    "edge_delta = pos[edge_index[1]] - pos[edge_index[0]]\n",
    "\n",
    "edge_attr = torch.randn(edge_index.size(1), c_attr * edge_channel_repr.size)"
   ]
  },
  {
   "cell_type": "code",
   "execution_count": 20,
   "metadata": {},
   "outputs": [],
   "source": [
    "y = model(x, edge_index, edge_delta, edge_attr)"
   ]
  },
  {
   "cell_type": "code",
   "execution_count": 21,
   "metadata": {},
   "outputs": [
    {
     "data": {
      "image/png": "[encoded data removed]",
      "text/plain": [
       "<Figure size 640x480 with 1 Axes>"
      ]
     },
     "metadata": {},
     "output_type": "display_data"
    }
   ],
   "source": [
    "plt.hist(y.tensor.detach().numpy().reshape(-1)[:1000], bins=100)\n",
    "plt.show()"
   ]
  },
  {
   "cell_type": "markdown",
   "metadata": {},
   "source": [
    "# Test equivariance"
   ]
  },
  {
   "cell_type": "markdown",
   "metadata": {},
   "source": [
    "We need to specify the type of edge features for the layer (it is done automatically inside the implicit kernel)"
   ]
  },
  {
   "cell_type": "code",
   "execution_count": 22,
   "metadata": {},
   "outputs": [],
   "source": [
    "edge_attr_type = gspace.type(*attr_repr)\n",
    "edge_attr_gt = edge_attr_type(edge_attr, edge_delta)\n",
    "\n",
    "edge_delta_type = gspace.type(*[vector_repr])\n",
    "edge_delta_gt = edge_delta_type(edge_delta, edge_delta)"
   ]
  },
  {
   "cell_type": "code",
   "execution_count": 23,
   "metadata": {},
   "outputs": [
    {
     "name": "stdout",
     "output_type": "stream",
     "text": [
      "Average absolute error for the layer: 1.39e-06\n"
     ]
    }
   ],
   "source": [
    "errors = []\n",
    "\n",
    "for el in list(gspace.testing_elements)[::10]:\n",
    "    out1 = (\n",
    "        model(\n",
    "            x=x,\n",
    "            edge_index=edge_index,\n",
    "            edge_delta=edge_delta,\n",
    "            edge_attr=edge_attr,\n",
    "            with_activation=False,\n",
    "        )\n",
    "        .transform(el)\n",
    "        .tensor.detach()\n",
    "        .numpy()\n",
    "    )\n",
    "\n",
    "    out2 = (\n",
    "        model(\n",
    "            x.transform(el),\n",
    "            edge_index=edge_index,\n",
    "            edge_delta=edge_delta_gt.transform(el).tensor,\n",
    "            edge_attr=edge_attr_gt.transform(el).tensor,\n",
    "            with_activation=False,\n",
    "        )\n",
    "        .tensor.detach()\n",
    "        .numpy()\n",
    "    )\n",
    "\n",
    "    errs = np.abs(out1 - out2) / (np.abs(out1) + np.abs(out2) + 1e-9)\n",
    "    errors.append(errs.mean())\n",
    "\n",
    "print(f\"Average absolute error for the layer: {np.mean(errors):.2e}\")"
   ]
  }
 ],
 "metadata": {
  "kernelspec": {
   "display_name": "Python 3",
   "language": "python",
   "name": "python3"
  },
  "language_info": {
   "codemirror_mode": {
    "name": "ipython",
    "version": 3
   },
   "file_extension": ".py",
   "mimetype": "text/x-python",
   "name": "python",
   "nbconvert_exporter": "python",
   "pygments_lexer": "ipython3",
   "version": "3.9.18"
  }
 },
 "nbformat": 4,
 "nbformat_minor": 2
}
